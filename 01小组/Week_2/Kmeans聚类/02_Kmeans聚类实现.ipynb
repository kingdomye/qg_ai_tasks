{
 "cells": [
  {
   "cell_type": "markdown",
   "id": "6916e1d8",
   "metadata": {},
   "source": [
    "导入代码所需库"
   ]
  },
  {
   "cell_type": "code",
   "execution_count": 4,
   "id": "initial_id",
   "metadata": {
    "collapsed": true
   },
   "outputs": [],
   "source": [
    "import pandas as pd\n",
    "import numpy as np\n",
    "import random\n",
    "from matplotlib import pyplot as plt"
   ]
  },
  {
   "cell_type": "markdown",
   "id": "c9ca4364",
   "metadata": {},
   "source": [
    "计算点与簇中心的欧氏距离："
   ]
  },
  {
   "cell_type": "code",
   "execution_count": 5,
   "id": "d6c7ca1a",
   "metadata": {},
   "outputs": [],
   "source": [
    "def calculate_distance(x, y):\n",
    "    distance = np.linalg.norm(x - y)\n",
    "    return distance"
   ]
  },
  {
   "cell_type": "markdown",
   "id": "b66d91b8",
   "metadata": {},
   "source": [
    "K-means类的封装\n",
    "\n",
    "包含文件读取、数据切分、更新簇中心、分类主函数"
   ]
  },
  {
   "cell_type": "code",
   "execution_count": null,
   "id": "64d2dc80",
   "metadata": {},
   "outputs": [],
   "source": [
    "class KMeans:\n",
    "    def __init__(self, n_clusters=3, max_iter=100):\n",
    "        self.data = None\n",
    "        self.n_clusters = n_clusters\n",
    "        self.max_iter = max_iter\n",
    "        self.X = None\n",
    "        self.Y = None\n",
    "\n",
    "    def read_data(self, filename=\"./iris_data/iris.csv\"):\n",
    "        self.data = pd.read_csv(filename)\n",
    "        self.X, self.Y = self.data.iloc[:, 1: -1], self.data.iloc[:, -1]\n",
    "        self.X = self.X.values\n",
    "\n",
    "    def get_clusters(self, clusters_center):\n",
    "        distances = np.linalg.norm(self.X[:, np.newaxis] - clusters_center, axis=2)\n",
    "        new_clusters = np.argmin(distances, axis=1)\n",
    "        return new_clusters\n",
    "\n",
    "    def update_clusters(self, new_clusters):\n",
    "        new_center = []\n",
    "        for i in range(self.n_clusters):\n",
    "            sum = np.zeros(self.X.shape[1])\n",
    "            cnt = 0\n",
    "            for j in range(self.X.shape[0]):\n",
    "                if new_clusters[j] == i:\n",
    "                    cnt += 1\n",
    "                    sum += self.X[j]\n",
    "            mean = sum / cnt\n",
    "            new_center.append(mean)\n",
    "        new_center = np.array(new_center)\n",
    "        return new_center\n",
    "\n",
    "    def classify(self):\n",
    "        clusters_center = np.array(random.sample(self.X.tolist(), self.n_clusters))\n",
    "        print(clusters_center)\n",
    "\n",
    "        for _ in range(self.max_iter):\n",
    "            new_clusters = self.get_clusters(clusters_center)\n",
    "            clusters_center = self.update_clusters(new_clusters)\n",
    "            print(clusters_center)"
   ]
  }
 ],
 "metadata": {
  "kernelspec": {
   "display_name": "Python 3",
   "language": "python",
   "name": "python3"
  },
  "language_info": {
   "codemirror_mode": {
    "name": "ipython",
    "version": 3
   },
   "file_extension": ".py",
   "mimetype": "text/x-python",
   "name": "python",
   "nbconvert_exporter": "python",
   "pygments_lexer": "ipython3",
   "version": "3.12.4"
  }
 },
 "nbformat": 4,
 "nbformat_minor": 5
}
